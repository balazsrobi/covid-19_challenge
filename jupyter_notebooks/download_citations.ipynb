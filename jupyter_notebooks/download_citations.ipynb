{
 "cells": [
  {
   "cell_type": "code",
   "execution_count": 1,
   "metadata": {},
   "outputs": [],
   "source": [
    "import os\n",
    "import json\n",
    "import semanticscholar as sch\n",
    "import scholarly\n",
    "\n",
    "from tqdm.notebook import tqdm"
   ]
  },
  {
   "cell_type": "code",
   "execution_count": 2,
   "metadata": {},
   "outputs": [],
   "source": [
    "COVID_DATA_PATH = '../../data/CORD-19-research-challenge'\n",
    "CITATIONS_SAVE_PATH = '../../data/CORD-19-research-challenge/citations'\n",
    "os.makedirs(CITATIONS_SAVE_PATH, exist_ok=True)"
   ]
  },
  {
   "cell_type": "code",
   "execution_count": null,
   "metadata": {},
   "outputs": [],
   "source": []
  },
  {
   "cell_type": "code",
   "execution_count": null,
   "metadata": {},
   "outputs": [],
   "source": [
    "all_citation_titles = []\n",
    "for path, subdirs, files in tqdm(os.walk(COVID_DATA_PATH)):\n",
    "    for name in tqdm(files, desc='Iterating files'):\n",
    "        fpath = os.path.join(path, name)\n",
    "        if name.split('.')[-1] == 'json':\n",
    "            with open(fpath, 'r') as f:\n",
    "                entries = json.load(f)['bib_entries']\n",
    "                for key in entries.keys():\n",
    "                    all_citation_titles.append(entries[key]['title'])\n",
    "\n"
   ]
  },
  {
   "cell_type": "code",
   "execution_count": null,
   "metadata": {},
   "outputs": [],
   "source": [
    "with open(os.path.join(CITATIONS_SAVE_PATH, 'citation_list.txt'), 'w') as f:\n",
    "        #f.writelines(all_citation_titles)\n",
    "        f.write('\\n'.join(all_citation_titles))"
   ]
  },
  {
   "cell_type": "code",
   "execution_count": 3,
   "metadata": {},
   "outputs": [],
   "source": [
    "with open(os.path.join(CITATIONS_SAVE_PATH, 'citation_list.txt')) as f:\n",
    "        all_citation_titles = f.readlines()"
   ]
  },
  {
   "cell_type": "code",
   "execution_count": null,
   "metadata": {},
   "outputs": [
    {
     "data": {
      "application/vnd.jupyter.widget-view+json": {
       "model_id": "dc8923da39c54df8ba63d4df2e84b723",
       "version_major": 2,
       "version_minor": 0
      },
      "text/plain": [
       "HBox(children=(FloatProgress(value=0.0, description='Downloading abstracts', max=10.0, style=ProgressStyle(des…"
      ]
     },
     "metadata": {},
     "output_type": "display_data"
    },
    {
     "name": "stdout",
     "output_type": "stream",
     "text": [
      "Cannot find abstract for article\n",
      "Cannot find abstract for article\n",
      "Cannot find abstract for article\n",
      "Cannot find abstract for article\n",
      "Cannot find abstract for article\n",
      "Cannot find abstract for article\n",
      "Cannot find abstract for article\n",
      "Cannot find abstract for article\n",
      "Cannot find abstract for article\n"
     ]
    }
   ],
   "source": [
    "# Get data of citations\n",
    "\n",
    "SAMPLE = 10\n",
    "\n",
    "publications = []\n",
    "for idx, title in enumerate(tqdm(all_citation_titles[:SAMPLE], 'Downloading abstracts')):\n",
    "    search_query = scholarly.search_pubs_query(title)\n",
    "    try:\n",
    "        e = next(search_query)\n",
    "        bib = e.__dict__['bib']\n",
    "        #publications.append(e.__dict__)\n",
    "        print(e.__dict__)\n",
    "        if 'abstract' in bib:\n",
    "            with open(os.path.join(CITATIONS_SAVE_PATH, str(idx)), 'w') as f:\n",
    "                f.write(e.__dict__['bib']['abstract'])\n",
    "        else:\n",
    "            print('Cannot find abstract for article')\n",
    "    except:\n",
    "        print('Cannot find abstract for article')"
   ]
  },
  {
   "cell_type": "code",
   "execution_count": null,
   "metadata": {},
   "outputs": [],
   "source": []
  }
 ],
 "metadata": {
  "kernelspec": {
   "display_name": "Python 3",
   "language": "python",
   "name": "python3"
  },
  "language_info": {
   "codemirror_mode": {
    "name": "ipython",
    "version": 3
   },
   "file_extension": ".py",
   "mimetype": "text/x-python",
   "name": "python",
   "nbconvert_exporter": "python",
   "pygments_lexer": "ipython3",
   "version": "3.6.10"
  }
 },
 "nbformat": 4,
 "nbformat_minor": 4
}
